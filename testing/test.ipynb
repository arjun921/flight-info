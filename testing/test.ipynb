{
 "cells": [
  {
   "cell_type": "code",
   "execution_count": 1,
   "metadata": {},
   "outputs": [],
   "source": [
    "from selenium import webdriver\n",
    "from selenium.webdriver.common.keys import Keys\n",
    "from selenium.webdriver.support.ui import WebDriverWait\n",
    "from selenium.webdriver.support import expected_conditions as EC\n",
    "from selenium.webdriver.common.by import By\n",
    "from selenium.common.exceptions import TimeoutException\n",
    "import time\n",
    "import datetime\n",
    "from bs4 import BeautifulSoup\n",
    "import urllib.request\n",
    "import json"
   ]
  },
  {
   "cell_type": "code",
   "execution_count": 2,
   "metadata": {},
   "outputs": [],
   "source": [
    "browser = webdriver.Chrome('./chromedriver') "
   ]
  },
  {
   "cell_type": "code",
   "execution_count": 31,
   "metadata": {},
   "outputs": [],
   "source": [
    "def findEnrouteFlights(origin,destination):\n",
    "    link = 'https://uk.flightaware.com/live/findflight?origin={}&destination={}'.format(origin,destination)\n",
    "    print(link)\n",
    "    browser.get(link)\n",
    "    browser.set_window_size(height=1009,width=1617)\n",
    "    try:\n",
    "        browser.find_element_by_id('r_En_Route')\n",
    "        browser.execute_script(\"document.getElementById('r_En_Route').parentNode.parentNode.children[1].children[0].click()\")\n",
    "    except Exception as e:\n",
    "        return [\"No Enroute Flights\"]\n",
    "    resultsSoup = BeautifulSoup(browser.find_element_by_id('Results').get_attribute('innerHTML'), 'html.parser') \n",
    "    enrouteflights = []\n",
    "    for x in resultsSoup.findAll('tr',{'style':''})[1:]:\n",
    "        if str(x) not in ['<tr class=\"\"></tr>','<tr class=\"alternateRow\"></tr>']:\n",
    "            flight = {\n",
    "                \"flightName\" : x.findAll('td')[0].findAll('span')[0].text,\n",
    "                \"flightID\" : x.findAll('td')[1].findAll('a')[0].text,\n",
    "                \"aircraft\" : x.findAll('td')[2].text.strip(),\n",
    "                \"status\" : x.findAll('td')[3].text.strip(),\n",
    "                \"departs\" : (x.findAll('td')[4].text.strip().encode('ascii', 'ignore')).decode(\"utf-8\"),\n",
    "                \"arrives\" : (x.findAll('td')[6].text.strip().encode('ascii', 'ignore')).decode(\"utf-8\"),\n",
    "            }\n",
    "            enrouteflights.append(flight)\n",
    "    return enrouteflights"
   ]
  },
  {
   "cell_type": "code",
   "execution_count": 32,
   "metadata": {},
   "outputs": [
    {
     "name": "stdout",
     "output_type": "stream",
     "text": [
      "https://uk.flightaware.com/live/findflight?origin=VIDP&destination=VABB\n"
     ]
    },
    {
     "data": {
      "text/plain": [
       "[{'flightName': 'Jet Airways',\n",
       "  'flightID': 'JAI340',\n",
       "  'aircraft': 'B738',\n",
       "  'status': 'On The Way! / On Time',\n",
       "  'departs': 'Thu 12:20IST',\n",
       "  'arrives': '14:45IST Thu'},\n",
       " {'flightName': 'Vistara',\n",
       "  'flightID': 'VTI983',\n",
       "  'aircraft': 'A320',\n",
       "  'status': 'On The Way! / Delayed',\n",
       "  'departs': 'Thu 11:40IST',\n",
       "  'arrives': '13:50IST Thu'},\n",
       " {'flightName': 'Jet Airways',\n",
       "  'flightID': 'JAI316',\n",
       "  'aircraft': 'B739',\n",
       "  'status': 'On The Way! / On Time',\n",
       "  'departs': 'Thu 11:30IST',\n",
       "  'arrives': '13:50IST Thu'},\n",
       " {'flightName': 'IndiGo',\n",
       "  'flightID': 'IGO957',\n",
       "  'aircraft': 'A320',\n",
       "  'status': 'On The Way! / On Time',\n",
       "  'departs': 'Thu 11:25IST',\n",
       "  'arrives': '13:40IST Thu'},\n",
       " {'flightName': 'GoAir',\n",
       "  'flightID': 'GOW338',\n",
       "  'aircraft': 'A320',\n",
       "  'status': 'On The Way! / On Time',\n",
       "  'departs': 'Thu 10:40IST',\n",
       "  'arrives': '12:50IST Thu'}]"
      ]
     },
     "execution_count": 32,
     "metadata": {},
     "output_type": "execute_result"
    }
   ],
   "source": [
    "findEnrouteFlights('VIDP','VABB')\n",
    "#https://uk.flightaware.com/live/findflight?origin=VIDP&destination=VABB"
   ]
  },
  {
   "cell_type": "code",
   "execution_count": null,
   "metadata": {},
   "outputs": [],
   "source": []
  }
 ],
 "metadata": {
  "kernelspec": {
   "display_name": "Python 3",
   "language": "python",
   "name": "python3"
  },
  "language_info": {
   "codemirror_mode": {
    "name": "ipython",
    "version": 3
   },
   "file_extension": ".py",
   "mimetype": "text/x-python",
   "name": "python",
   "nbconvert_exporter": "python",
   "pygments_lexer": "ipython3",
   "version": "3.6.4"
  }
 },
 "nbformat": 4,
 "nbformat_minor": 2
}
