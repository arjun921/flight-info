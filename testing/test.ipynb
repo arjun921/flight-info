{
 "cells": [
  {
   "cell_type": "code",
   "execution_count": 1,
   "metadata": {},
   "outputs": [],
   "source": [
    "from selenium import webdriver\n",
    "from selenium.webdriver.common.keys import Keys\n",
    "from selenium.webdriver.support.ui import WebDriverWait\n",
    "from selenium.webdriver.support import expected_conditions as EC\n",
    "from selenium.webdriver.common.by import By\n",
    "from selenium.common.exceptions import TimeoutException\n",
    "import time\n",
    "import datetime\n",
    "from bs4 import BeautifulSoup\n",
    "import urllib.request\n",
    "import json"
   ]
  },
  {
   "cell_type": "code",
   "execution_count": 2,
   "metadata": {},
   "outputs": [],
   "source": [
    "browser = webdriver.Chrome('./chromedriver') "
   ]
  },
  {
   "cell_type": "code",
   "execution_count": 3,
   "metadata": {},
   "outputs": [],
   "source": [
    "def findEnrouteFlights(origin,destination):\n",
    "    link = 'https://uk.flightaware.com/live/findflight?origin={}&destination={}'.format(origin,destination)\n",
    "    print(link)\n",
    "    browser.get(link)\n",
    "    browser.set_window_size(height=1009,width=1617)\n",
    "    try:\n",
    "        browser.find_element_by_id('r_En_Route')\n",
    "        browser.execute_script(\"document.getElementById('r_En_Route').parentNode.parentNode.children[1].children[0].click()\")\n",
    "    except Exception as e:\n",
    "        return [\"No Enroute Flights\"]\n",
    "    resultsSoup = BeautifulSoup(browser.find_element_by_id('Results').get_attribute('innerHTML'), 'html.parser') \n",
    "    enrouteflights = []\n",
    "    for x in resultsSoup.findAll('tr',{'style':''})[1:-1]:\n",
    "        flight = {\n",
    "            \"flightName\" : x.findAll('td')[0].findAll('span')[0].text,\n",
    "            \"flightID\" : x.findAll('td')[1].findAll('a')[0].text,\n",
    "            \"aircraft\" : x.findAll('td')[2].text.strip(),\n",
    "            \"status\" : x.findAll('td')[3].text.strip(),\n",
    "            \"departs\" : (x.findAll('td')[4].text.strip().encode('ascii', 'ignore')).decode(\"utf-8\"),\n",
    "            \"arrives\" : (x.findAll('td')[6].text.strip().encode('ascii', 'ignore')).decode(\"utf-8\"),\n",
    "        }\n",
    "        enrouteflights.append(flight)\n",
    "    return enrouteflights"
   ]
  },
  {
   "cell_type": "code",
   "execution_count": 4,
   "metadata": {},
   "outputs": [
    {
     "name": "stdout",
     "output_type": "stream",
     "text": [
      "https://uk.flightaware.com/live/findflight?origin=VIDP&destination=VABB\n"
     ]
    },
    {
     "ename": "IndexError",
     "evalue": "list index out of range",
     "output_type": "error",
     "traceback": [
      "\u001b[0;31m---------------------------------------------------------------------------\u001b[0m",
      "\u001b[0;31mIndexError\u001b[0m                                Traceback (most recent call last)",
      "\u001b[0;32m<ipython-input-4-b79199fe70ae>\u001b[0m in \u001b[0;36m<module>\u001b[0;34m()\u001b[0m\n\u001b[0;32m----> 1\u001b[0;31m \u001b[0mfindEnrouteFlights\u001b[0m\u001b[0;34m(\u001b[0m\u001b[0;34m'VIDP'\u001b[0m\u001b[0;34m,\u001b[0m\u001b[0;34m'VABB'\u001b[0m\u001b[0;34m)\u001b[0m\u001b[0;34m\u001b[0m\u001b[0m\n\u001b[0m\u001b[1;32m      2\u001b[0m \u001b[0;31m#https://uk.flightaware.com/live/findflight?origin=VIDP&destination=VABB\u001b[0m\u001b[0;34m\u001b[0m\u001b[0;34m\u001b[0m\u001b[0m\n",
      "\u001b[0;32m<ipython-input-3-a301f1c36985>\u001b[0m in \u001b[0;36mfindEnrouteFlights\u001b[0;34m(origin, destination)\u001b[0m\n\u001b[1;32m     13\u001b[0m     \u001b[0;32mfor\u001b[0m \u001b[0mx\u001b[0m \u001b[0;32min\u001b[0m \u001b[0mresultsSoup\u001b[0m\u001b[0;34m.\u001b[0m\u001b[0mfindAll\u001b[0m\u001b[0;34m(\u001b[0m\u001b[0;34m'tr'\u001b[0m\u001b[0;34m,\u001b[0m\u001b[0;34m{\u001b[0m\u001b[0;34m'style'\u001b[0m\u001b[0;34m:\u001b[0m\u001b[0;34m''\u001b[0m\u001b[0;34m}\u001b[0m\u001b[0;34m)\u001b[0m\u001b[0;34m[\u001b[0m\u001b[0;36m1\u001b[0m\u001b[0;34m:\u001b[0m\u001b[0;34m-\u001b[0m\u001b[0;36m1\u001b[0m\u001b[0;34m]\u001b[0m\u001b[0;34m:\u001b[0m\u001b[0;34m\u001b[0m\u001b[0m\n\u001b[1;32m     14\u001b[0m         flight = {\n\u001b[0;32m---> 15\u001b[0;31m             \u001b[0;34m\"flightName\"\u001b[0m \u001b[0;34m:\u001b[0m \u001b[0mx\u001b[0m\u001b[0;34m.\u001b[0m\u001b[0mfindAll\u001b[0m\u001b[0;34m(\u001b[0m\u001b[0;34m'td'\u001b[0m\u001b[0;34m)\u001b[0m\u001b[0;34m[\u001b[0m\u001b[0;36m0\u001b[0m\u001b[0;34m]\u001b[0m\u001b[0;34m.\u001b[0m\u001b[0mfindAll\u001b[0m\u001b[0;34m(\u001b[0m\u001b[0;34m'span'\u001b[0m\u001b[0;34m)\u001b[0m\u001b[0;34m[\u001b[0m\u001b[0;36m0\u001b[0m\u001b[0;34m]\u001b[0m\u001b[0;34m.\u001b[0m\u001b[0mtext\u001b[0m\u001b[0;34m,\u001b[0m\u001b[0;34m\u001b[0m\u001b[0m\n\u001b[0m\u001b[1;32m     16\u001b[0m             \u001b[0;34m\"flightID\"\u001b[0m \u001b[0;34m:\u001b[0m \u001b[0mx\u001b[0m\u001b[0;34m.\u001b[0m\u001b[0mfindAll\u001b[0m\u001b[0;34m(\u001b[0m\u001b[0;34m'td'\u001b[0m\u001b[0;34m)\u001b[0m\u001b[0;34m[\u001b[0m\u001b[0;36m1\u001b[0m\u001b[0;34m]\u001b[0m\u001b[0;34m.\u001b[0m\u001b[0mfindAll\u001b[0m\u001b[0;34m(\u001b[0m\u001b[0;34m'a'\u001b[0m\u001b[0;34m)\u001b[0m\u001b[0;34m[\u001b[0m\u001b[0;36m0\u001b[0m\u001b[0;34m]\u001b[0m\u001b[0;34m.\u001b[0m\u001b[0mtext\u001b[0m\u001b[0;34m,\u001b[0m\u001b[0;34m\u001b[0m\u001b[0m\n\u001b[1;32m     17\u001b[0m             \u001b[0;34m\"aircraft\"\u001b[0m \u001b[0;34m:\u001b[0m \u001b[0mx\u001b[0m\u001b[0;34m.\u001b[0m\u001b[0mfindAll\u001b[0m\u001b[0;34m(\u001b[0m\u001b[0;34m'td'\u001b[0m\u001b[0;34m)\u001b[0m\u001b[0;34m[\u001b[0m\u001b[0;36m2\u001b[0m\u001b[0;34m]\u001b[0m\u001b[0;34m.\u001b[0m\u001b[0mtext\u001b[0m\u001b[0;34m.\u001b[0m\u001b[0mstrip\u001b[0m\u001b[0;34m(\u001b[0m\u001b[0;34m)\u001b[0m\u001b[0;34m,\u001b[0m\u001b[0;34m\u001b[0m\u001b[0m\n",
      "\u001b[0;31mIndexError\u001b[0m: list index out of range"
     ]
    }
   ],
   "source": [
    "findEnrouteFlights('VIDP','VABB')\n",
    "#https://uk.flightaware.com/live/findflight?origin=VIDP&destination=VABB"
   ]
  },
  {
   "cell_type": "code",
   "execution_count": 7,
   "metadata": {},
   "outputs": [
    {
     "name": "stdout",
     "output_type": "stream",
     "text": [
      "https://uk.flightaware.com/live/findflight?origin=VIDP&destination=VABB\n"
     ]
    },
    {
     "ename": "SyntaxError",
     "evalue": "'return' outside function (<ipython-input-7-273363dbcb1e>, line 9)",
     "output_type": "error",
     "traceback": [
      "\u001b[0;36m  File \u001b[0;32m\"<ipython-input-7-273363dbcb1e>\"\u001b[0;36m, line \u001b[0;32m9\u001b[0m\n\u001b[0;31m    return [\"No Enroute Flights\"]\u001b[0m\n\u001b[0m    ^\u001b[0m\n\u001b[0;31mSyntaxError\u001b[0m\u001b[0;31m:\u001b[0m 'return' outside function\n"
     ]
    }
   ],
   "source": [
    "link = 'https://uk.flightaware.com/live/findflight?origin=VIDP&destination=VABB'\n",
    "print(link)\n",
    "browser.get(link)\n",
    "browser.set_window_size(height=1009,width=1617)\n",
    "try:\n",
    "    browser.find_element_by_id('r_En_Route')\n",
    "    browser.execute_script(\"document.getElementById('r_En_Route').parentNode.parentNode.children[1].children[0].click()\")\n",
    "except Exception as e:\n",
    "    return [\"No Enroute Flights\"]\n",
    "resultsSoup = BeautifulSoup(browser.find_element_by_id('Results').get_attribute('innerHTML'), 'html.parser') \n",
    "enrouteflights = []\n",
    "for x in resultsSoup.findAll('tr',{'style':''})[1:-1]:\n",
    "    flight = {\n",
    "        \"flightName\" : x.findAll('td')[0].findAll('span')[0].text,\n",
    "        \"flightID\" : x.findAll('td')[1].findAll('a')[0].text,\n",
    "        \"aircraft\" : x.findAll('td')[2].text.strip(),\n",
    "        \"status\" : x.findAll('td')[3].text.strip(),\n",
    "        \"departs\" : (x.findAll('td')[4].text.strip().encode('ascii', 'ignore')).decode(\"utf-8\"),\n",
    "        \"arrives\" : (x.findAll('td')[6].text.strip().encode('ascii', 'ignore')).decode(\"utf-8\"),\n",
    "    }\n",
    "    enrouteflights.append(flight)\n",
    "return enrouteflights"
   ]
  },
  {
   "cell_type": "code",
   "execution_count": 8,
   "metadata": {},
   "outputs": [
    {
     "data": {
      "text/plain": [
       "<selenium.webdriver.remote.webelement.WebElement (session=\"29a5593cfc4893a302836591a6bef8e6\", element=\"0.151746351654221-1\")>"
      ]
     },
     "execution_count": 8,
     "metadata": {},
     "output_type": "execute_result"
    }
   ],
   "source": [
    "browser.find_element_by_id('r_En_Route')"
   ]
  },
  {
   "cell_type": "code",
   "execution_count": 9,
   "metadata": {},
   "outputs": [],
   "source": [
    "browser.execute_script(\"document.getElementById('r_En_Route').parentNode.parentNode.children[1].children[0].click()\")"
   ]
  },
  {
   "cell_type": "code",
   "execution_count": 10,
   "metadata": {},
   "outputs": [],
   "source": [
    "resultsSoup = BeautifulSoup(browser.find_element_by_id('Results').get_attribute('innerHTML'), 'html.parser') "
   ]
  },
  {
   "cell_type": "code",
   "execution_count": 11,
   "metadata": {},
   "outputs": [],
   "source": [
    "enrouteflights = []"
   ]
  },
  {
   "cell_type": "code",
   "execution_count": 28,
   "metadata": {},
   "outputs": [
    {
     "name": "stdout",
     "output_type": "stream",
     "text": [
      "=========================\n",
      "<tr class=\"ffinder-results-row-bordertop ffinder-results-row alternateRow\" url=\"/live/flight/id/JAI340-1526966760-airline-0008\"><td class=\"ffinder-results-airline text_align_left\" rowspan=\"2\">\n",
      "<img alt=\"logoAltText\" class=\"airline-minilogo\" src=\"https://e1.flightcdn.com/images/airline_logos/24px/JAI.png\"/>\n",
      "<span>Jet Airways</span>\n",
      "</td>\n",
      "<td class=\"ffinder-results-ident text_align_left\" rowspan=\"2\">\n",
      "<span title='Jet Airways \"Jet Airways\"'><a href=\"/live/flight/id/JAI340-1526966760-airline-0008\">JAI340</a></span>\n",
      "</td>\n",
      "<td class=\"ffinder-results-aircraft text_align_left\" rowspan=\"2\">\n",
      "\t\tB738\n",
      "\t</td>\n",
      "<td class=\"ffinder-results-status text_align_left\" rowspan=\"2\">\n",
      "<span class=\"flightStatusGood\" style=\"font-weight: bold; font-style: italic;\">On The Way! / On Time</span>\n",
      "</td>\n",
      "<td class=\"ffinder-results-departure text_align_right\" rowspan=\"2\">\n",
      "<div class=\"ffinder-results-schedule-departure\">\n",
      "<span title=\"IST\">Thu</span> 12:20 <span class=\"tz\">IST</span>\n",
      "</div>\n",
      "</td>\n",
      "<td rowspan=\"2\" style=\"text-align: center;\">\n",
      "</td>\n",
      "<td class=\"ffinder-results-arrival text_align_left\" rowspan=\"2\">\n",
      "<div class=\"ffinder-results-schedule-arrival\">\n",
      "\t\t\t14:45 <span class=\"tz\">IST</span> <span title=\"IST\">Thu</span>\n",
      "</div>\n",
      "</td>\n",
      "</tr>\n",
      "=========================\n",
      "=========================\n",
      "<tr class=\"ffinder-results-row-bordertop ffinder-results-row\" url=\"/live/flight/id/VTI983-1526966773-airline-0154%3a0\"><td class=\"ffinder-results-airline text_align_left\" rowspan=\"2\">\n",
      "<span>Vistara</span>\n",
      "</td>\n",
      "<td class=\"ffinder-results-ident text_align_left\" rowspan=\"2\">\n",
      "<span title='Vistara \"VISTARA\" ( Gurgaon)'><a href=\"/live/flight/id/VTI983-1526966773-airline-0154%3a0\">VTI983</a></span>\n",
      "</td>\n",
      "<td class=\"ffinder-results-aircraft text_align_left\" rowspan=\"2\">\n",
      "\t\tA320\n",
      "\t</td>\n",
      "<td class=\"ffinder-results-status text_align_left\" rowspan=\"2\">\n",
      "<span class=\"flightStatusNotGreatAirborne\">On The Way! / Delayed</span>\n",
      "</td>\n",
      "<td class=\"ffinder-results-departure text_align_right\" rowspan=\"2\">\n",
      "<div class=\"ffinder-results-schedule-departure\">\n",
      "<span title=\"IST\">Thu</span> 11:40 <span class=\"tz\">IST</span>\n",
      "</div>\n",
      "</td>\n",
      "<td rowspan=\"2\" style=\"text-align: center;\">\n",
      "</td>\n",
      "<td class=\"ffinder-results-arrival text_align_left\" rowspan=\"2\">\n",
      "<div class=\"ffinder-results-schedule-arrival\">\n",
      "\t\t\t13:50 <span class=\"tz\">IST</span> <span title=\"IST\">Thu</span>\n",
      "</div>\n",
      "</td>\n",
      "</tr>\n",
      "=========================\n",
      "=========================\n",
      "<tr class=\"ffinder-results-row-bordertop ffinder-results-row alternateRow\" url=\"/live/flight/id/JAI316-1526966760-airline-0040\"><td class=\"ffinder-results-airline text_align_left\" rowspan=\"2\">\n",
      "<img alt=\"logoAltText\" class=\"airline-minilogo\" src=\"https://e1.flightcdn.com/images/airline_logos/24px/JAI.png\"/>\n",
      "<span>Jet Airways</span>\n",
      "</td>\n",
      "<td class=\"ffinder-results-ident text_align_left\" rowspan=\"2\">\n",
      "<span title='Jet Airways \"Jet Airways\"'><a href=\"/live/flight/id/JAI316-1526966760-airline-0040\">JAI316</a></span>\n",
      "</td>\n",
      "<td class=\"ffinder-results-aircraft text_align_left\" rowspan=\"2\">\n",
      "\t\tB739\n",
      "\t</td>\n",
      "<td class=\"ffinder-results-status text_align_left\" rowspan=\"2\">\n",
      "<span class=\"flightStatusGood\" style=\"font-weight: bold; font-style: italic;\">On The Way! / On Time</span>\n",
      "</td>\n",
      "<td class=\"ffinder-results-departure text_align_right\" rowspan=\"2\">\n",
      "<div class=\"ffinder-results-schedule-departure\">\n",
      "<span title=\"IST\">Thu</span> 11:30 <span class=\"tz\">IST</span>\n",
      "</div>\n",
      "</td>\n",
      "<td rowspan=\"2\" style=\"text-align: center;\">\n",
      "</td>\n",
      "<td class=\"ffinder-results-arrival text_align_left\" rowspan=\"2\">\n",
      "<div class=\"ffinder-results-schedule-arrival\">\n",
      "\t\t\t13:50 <span class=\"tz\">IST</span> <span title=\"IST\">Thu</span>\n",
      "</div>\n",
      "</td>\n",
      "</tr>\n",
      "=========================\n",
      "=========================\n",
      "<tr class=\"ffinder-results-row-bordertop ffinder-results-row\" url=\"/live/flight/id/IGO957-1526968500-schedule-0000\"><td class=\"ffinder-results-airline text_align_left\" rowspan=\"2\">\n",
      "<img alt=\"logoAltText\" class=\"airline-minilogo\" src=\"https://e0.flightcdn.com/images/airline_logos/24px/IGO.png\"/>\n",
      "<span>IndiGo</span>\n",
      "</td>\n",
      "<td class=\"ffinder-results-ident text_align_left\" rowspan=\"2\">\n",
      "<span title='IndiGo \"IFLY\" (New Delhi)'><a href=\"/live/flight/id/IGO957-1526968500-schedule-0000\">IGO957</a></span>\n",
      "</td>\n",
      "<td class=\"ffinder-results-aircraft text_align_left\" rowspan=\"2\">\n",
      "\t\tA320\n",
      "\t</td>\n",
      "<td class=\"ffinder-results-status text_align_left\" rowspan=\"2\">\n",
      "<span class=\"flightStatusGood\" style=\"font-weight: bold; font-style: italic;\">On The Way! / On Time</span>\n",
      "</td>\n",
      "<td class=\"ffinder-results-departure text_align_right\" rowspan=\"2\">\n",
      "<div class=\"ffinder-results-schedule-departure\">\n",
      "<span title=\"IST\">Thu</span> 11:25 <span class=\"tz\">IST</span>\n",
      "</div>\n",
      "</td>\n",
      "<td rowspan=\"2\" style=\"text-align: center;\">\n",
      "</td>\n",
      "<td class=\"ffinder-results-arrival text_align_left\" rowspan=\"2\">\n",
      "<div class=\"ffinder-results-schedule-arrival\">\n",
      "\t\t\t13:40 <span class=\"tz\">IST</span> <span title=\"IST\">Thu</span>\n",
      "</div>\n",
      "</td>\n",
      "</tr>\n",
      "=========================\n",
      "=========================\n",
      "<tr class=\"ffinder-results-row-bordertop ffinder-results-row alternateRow\" url=\"/live/flight/id/GOW338-1526965800-schedule-0000%3a0\"><td class=\"ffinder-results-airline text_align_left\" rowspan=\"2\">\n",
      "<span>GoAir</span>\n",
      "</td>\n",
      "<td class=\"ffinder-results-ident text_align_left\" rowspan=\"2\">\n",
      "<span title='GoAir \"Go Air\" (Mumbai)'><a href=\"/live/flight/id/GOW338-1526965800-schedule-0000%3a0\">GOW338</a></span>\n",
      "</td>\n",
      "<td class=\"ffinder-results-aircraft text_align_left\" rowspan=\"2\">\n",
      "\t\tA320\n",
      "\t</td>\n",
      "<td class=\"ffinder-results-status text_align_left\" rowspan=\"2\">\n",
      "<span class=\"flightStatusGood\" style=\"font-weight: bold; font-style: italic;\">On The Way! / On Time</span>\n",
      "</td>\n",
      "<td class=\"ffinder-results-departure text_align_right\" rowspan=\"2\">\n",
      "<div class=\"ffinder-results-schedule-departure\">\n",
      "<span title=\"IST\">Thu</span> 10:40 <span class=\"tz\">IST</span>\n",
      "</div>\n",
      "</td>\n",
      "<td rowspan=\"2\" style=\"text-align: center;\">\n",
      "</td>\n",
      "<td class=\"ffinder-results-arrival text_align_left\" rowspan=\"2\">\n",
      "<div class=\"ffinder-results-schedule-arrival\">\n",
      "\t\t\t12:50 <span class=\"tz\">IST</span> <span title=\"IST\">Thu</span>\n",
      "</div>\n",
      "</td>\n",
      "</tr>\n",
      "=========================\n",
      "=========================\n",
      "<tr class=\"ffinder-results-row-bordertop ffinder-results-row\" url=\"/live/flight/id/VTI995-1526964600-schedule-0000%3a0\"><td class=\"ffinder-results-airline text_align_left\" rowspan=\"2\">\n",
      "<span>Vistara</span>\n",
      "</td>\n",
      "<td class=\"ffinder-results-ident text_align_left\" rowspan=\"2\">\n",
      "<span title='Vistara \"VISTARA\" ( Gurgaon)'><a href=\"/live/flight/id/VTI995-1526964600-schedule-0000%3a0\">VTI995</a></span>\n",
      "</td>\n",
      "<td class=\"ffinder-results-aircraft text_align_left\" rowspan=\"2\">\n",
      "\t\tA320\n",
      "\t</td>\n",
      "<td class=\"ffinder-results-status text_align_left\" rowspan=\"2\">\n",
      "<span class=\"flightStatusNotGreatAirborne\">On The Way! / Delayed</span>\n",
      "</td>\n",
      "<td class=\"ffinder-results-departure text_align_right\" rowspan=\"2\">\n",
      "<div class=\"ffinder-results-schedule-departure\">\n",
      "<span title=\"IST\">Thu</span> 10:20 <span class=\"tz\">IST</span>\n",
      "</div>\n",
      "</td>\n",
      "<td rowspan=\"2\" style=\"text-align: center;\">\n",
      "</td>\n",
      "<td class=\"ffinder-results-arrival text_align_left\" rowspan=\"2\">\n",
      "<div class=\"ffinder-results-schedule-arrival\">\n",
      "\t\t\t12:30 <span class=\"tz\">IST</span> <span title=\"IST\">Thu</span>\n",
      "</div>\n",
      "</td>\n",
      "</tr>\n",
      "=========================\n"
     ]
    }
   ],
   "source": [
    "for x in resultsSoup.findAll('tr',{'style':''})[1:]:\n",
    "    print(\"=\"*25)\n",
    "    if str(x) not in ['<tr class=\"\"></tr>','<tr class=\"alternateRow\"></tr>']:\n",
    "        print(x)\n",
    "        flight = {\n",
    "            \"flightName\" : x.findAll('td')[0].findAll('span')[0].text,\n",
    "            \"flightID\" : x.findAll('td')[1].findAll('a')[0].text,\n",
    "            \"aircraft\" : x.findAll('td')[2].text.strip(),\n",
    "            \"status\" : x.findAll('td')[3].text.strip(),\n",
    "            \"departs\" : (x.findAll('td')[4].text.strip().encode('ascii', 'ignore')).decode(\"utf-8\"),\n",
    "            \"arrives\" : (x.findAll('td')[6].text.strip().encode('ascii', 'ignore')).decode(\"utf-8\"),\n",
    "        }"
   ]
  },
  {
   "cell_type": "code",
   "execution_count": 27,
   "metadata": {
    "scrolled": true
   },
   "outputs": [
    {
     "data": {
      "text/plain": [
       "'<tr class=\"\"></tr>'"
      ]
     },
     "execution_count": 27,
     "metadata": {},
     "output_type": "execute_result"
    }
   ],
   "source": [
    "str(x)"
   ]
  },
  {
   "cell_type": "code",
   "execution_count": null,
   "metadata": {},
   "outputs": [],
   "source": []
  }
 ],
 "metadata": {
  "kernelspec": {
   "display_name": "Python 3",
   "language": "python",
   "name": "python3"
  },
  "language_info": {
   "codemirror_mode": {
    "name": "ipython",
    "version": 3
   },
   "file_extension": ".py",
   "mimetype": "text/x-python",
   "name": "python",
   "nbconvert_exporter": "python",
   "pygments_lexer": "ipython3",
   "version": "3.6.4"
  }
 },
 "nbformat": 4,
 "nbformat_minor": 2
}
