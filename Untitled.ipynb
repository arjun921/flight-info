{
 "cells": [
  {
   "cell_type": "code",
   "execution_count": 89,
   "metadata": {},
   "outputs": [],
   "source": [
    "from selenium import webdriver\n",
    "from selenium.webdriver.common.keys import Keys\n",
    "from selenium.webdriver.support.ui import WebDriverWait\n",
    "from selenium.webdriver.support import expected_conditions as EC\n",
    "from selenium.webdriver.common.by import By\n",
    "from selenium.common.exceptions import TimeoutException\n",
    "import time\n",
    "import datetime\n",
    "from bs4 import BeautifulSoup\n",
    "import urllib.request\n",
    "import json"
   ]
  },
  {
   "cell_type": "code",
   "execution_count": 2,
   "metadata": {},
   "outputs": [],
   "source": [
    "browser = webdriver.Chrome('driver/chromedriver') "
   ]
  },
  {
   "cell_type": "code",
   "execution_count": null,
   "metadata": {},
   "outputs": [],
   "source": [
    "def getPage(flightID,date=datetime.datetime.now().date().strftime(\"%Y%m%d\")):\n",
    "    diff = datetime.datetime.strptime(date, \"%Y%m%d\").date()-datetime.datetime.now().date()\n",
    "    if diff > datetime.timedelta(-14):\n",
    "        link = 'https://uk.flightaware.com/live/flight/{}/history/{}/'.format(flightID,date)\n",
    "        print(link)\n",
    "        browser.get(link)\n",
    "        return True\n",
    "    else:\n",
    "        return False\n",
    "\n",
    "def getSummary():\n",
    "    flightSummary = browser.find_element_by_id('flightPageTourStep1')\n",
    "    flightSummarySoup = BeautifulSoup(flightSummary.get_attribute('innerHTML'), 'html.parser')\n",
    "\n",
    "    summary = {}\n",
    "    summary['sourceIATA'] = flightSummary[0]\n",
    "    summary['sourceFName'] = flightSummary[0]\n",
    "    return flightSummary"
   ]
  },
  {
   "cell_type": "code",
   "execution_count": null,
   "metadata": {},
   "outputs": [],
   "source": []
  },
  {
   "cell_type": "code",
   "execution_count": 203,
   "metadata": {},
   "outputs": [
    {
     "name": "stdout",
     "output_type": "stream",
     "text": [
      "https://uk.flightaware.com/live/flight/UAE353/history/20180509/\n"
     ]
    },
    {
     "data": {
      "text/plain": [
       "True"
      ]
     },
     "execution_count": 203,
     "metadata": {},
     "output_type": "execute_result"
    }
   ],
   "source": [
    "getPage('UAE353','20180509')"
   ]
  },
  {
   "cell_type": "code",
   "execution_count": null,
   "metadata": {
    "scrolled": true
   },
   "outputs": [],
   "source": []
  },
  {
   "cell_type": "code",
   "execution_count": 204,
   "metadata": {},
   "outputs": [],
   "source": [
    "flightSummary = browser.find_element_by_id('flightPageTourStep1')\n",
    "flightSummarySoup = BeautifulSoup(flightSummary.get_attribute('innerHTML'), 'html.parser')"
   ]
  },
  {
   "cell_type": "code",
   "execution_count": 205,
   "metadata": {},
   "outputs": [],
   "source": [
    "sourceDest = flightSummarySoup.find('div',{\"class\": \"flightPageSummaryAirports\"})\n",
    "sourceIATA = sourceDest.find('div',{'class':'flightPageSummaryOrigin'}).find('span',{'class':'displayFlexElementContainer'}).text\n",
    "sourceFName = sourceDest.find('div',{'class':'flightPageSummaryOrigin'}).find('span',{'class':'flightPageSummaryCity'}).text\n",
    "destIATA = sourceDest.find('div',{'class':'flightPageSummaryDestination'}).find('span',{'class':'displayFlexElementContainer'}).text\n",
    "destFName = sourceDest.find('div',{'class':'flightPageSummaryDestination'}).find('span',{'class':'flightPageSummaryCity'}).text\n",
    "dateOfDeparture = flightSummarySoup.find('span',{'class':'flightPageSummaryDepartureDay'}).text.split(' ')[-1]\n",
    "dayOfDeparture =  flightSummarySoup.find('span',{'class':'flightPageSummaryDepartureDay'}).text.split(' ')[0]\n",
    "timeOfDeparture =  flightSummarySoup.find('span',{'class':'flightPageSummaryDeparture'}).text.split('\\n\\n\\n')[0]\n",
    "dateOfArrival = flightSummarySoup.find('span',{'class':'flightPageSummaryArrivalDay'}).text.split(' ')[-1]\n",
    "dayOfArrival =  flightSummarySoup.find('span',{'class':'flightPageSummaryArrivalDay'}).text.split(' ')[0]\n",
    "timeOfArrival =  flightSummarySoup.find('span',{'class':'flightPageSummaryArrival'}).text.split('\\n\\n\\n')[0]\n",
    "departureDelay = flightSummarySoup.find('span',{'class':'flightPageDepartureDelayStatus'}).text.strip(\"()\")\n",
    "arrivalDelay = flightSummarySoup.find('span',{'class':'flightPageArrivalDelayStatus'}).text.strip(\"()\")\n",
    "totalFlightTime = flightSummarySoup.find('span',{'class':'flightPageProgressTotal'}).text.strip().replace('\\n total flight time','')\n",
    "AboutFlight  = browser.find_element_by_class_name('flightPageSummaryContainer')\n",
    "AboutFlightSoup = BeautifulSoup(AboutFlight.get_attribute('innerHTML'), 'html.parser')\n",
    "currentStatus = AboutFlightSoup.find('div',{'class':'flightPageSummaryStatus'})"
   ]
  },
  {
   "cell_type": "code",
   "execution_count": 206,
   "metadata": {},
   "outputs": [
    {
     "name": "stdout",
     "output_type": "stream",
     "text": [
      "{\n",
      "    \"totalTime\": \"7h 12m\",\n",
      "    \"status\": \"En route and on time\",\n",
      "    \"sub-status\": \"Arriving in 45 minutes\",\n",
      "    \"source\": {\n",
      "        \"name\": \"Singapore\",\n",
      "        \"airportCode\": \"SIN\"\n",
      "    },\n",
      "    \"destination\": {\n",
      "        \"name\": \"Dubai, United Arab Emirates\",\n",
      "        \"airportCode\": \"DXB\"\n",
      "    },\n",
      "    \"departure\": {\n",
      "        \"day\": \"Tuesday\",\n",
      "        \"date\": \"22-May-2018\",\n",
      "        \"time\": \"10:35 +08\",\n",
      "        \"delay\": \"On Time\"\n",
      "    },\n",
      "    \"arrival\": {\n",
      "        \"day\": \"Tuesday\",\n",
      "        \"date\": \"22-May-2018\",\n",
      "        \"time\": \"13:47 +04\",\n",
      "        \"delay\": \"On Time\"\n",
      "    }\n",
      "}\n"
     ]
    }
   ],
   "source": [
    "summary = {}\n",
    "summary['totalTime'] = totalFlightTime\n",
    "summary['status'] = currentStatus.contents[0]\n",
    "if len(currentStatus.contents)>1:\n",
    "    summary['sub-status'] = currentStatus.contents[1].text\n",
    "source = {}\n",
    "source['name'] = sourceFName.strip()\n",
    "source['airportCode'] = sourceIATA.strip()\n",
    "summary['source'] = source\n",
    "destination = {}\n",
    "destination['name'] = destFName.strip()\n",
    "destination['airportCode'] = destIATA.strip()\n",
    "summary['destination'] = destination\n",
    "departure = {}\n",
    "departure['day'] = dayOfDeparture.strip()\n",
    "departure['date'] = dateOfDeparture.strip()\n",
    "departure['time'] = timeOfDeparture.strip()\n",
    "departure['delay'] = departureDelay.title()\n",
    "summary['departure'] = departure\n",
    "arrival = {}\n",
    "arrival['day'] = dayOfArrival.strip()\n",
    "arrival['date'] = dateOfArrival.strip()\n",
    "arrival['time'] = timeOfArrival.strip()\n",
    "arrival['delay'] = arrivalDelay.title()\n",
    "summary['arrival'] = arrival\n",
    "print(json.dumps(summary,indent=4))"
   ]
  },
  {
   "cell_type": "code",
   "execution_count": null,
   "metadata": {},
   "outputs": [],
   "source": []
  },
  {
   "cell_type": "code",
   "execution_count": null,
   "metadata": {},
   "outputs": [],
   "source": []
  },
  {
   "cell_type": "code",
   "execution_count": null,
   "metadata": {},
   "outputs": [],
   "source": []
  },
  {
   "cell_type": "code",
   "execution_count": null,
   "metadata": {},
   "outputs": [],
   "source": []
  },
  {
   "cell_type": "code",
   "execution_count": null,
   "metadata": {},
   "outputs": [],
   "source": []
  },
  {
   "cell_type": "code",
   "execution_count": null,
   "metadata": {},
   "outputs": [],
   "source": []
  },
  {
   "cell_type": "code",
   "execution_count": null,
   "metadata": {},
   "outputs": [],
   "source": []
  },
  {
   "cell_type": "code",
   "execution_count": null,
   "metadata": {},
   "outputs": [],
   "source": []
  },
  {
   "cell_type": "code",
   "execution_count": null,
   "metadata": {},
   "outputs": [],
   "source": []
  },
  {
   "cell_type": "code",
   "execution_count": null,
   "metadata": {},
   "outputs": [],
   "source": []
  },
  {
   "cell_type": "code",
   "execution_count": null,
   "metadata": {},
   "outputs": [],
   "source": []
  },
  {
   "cell_type": "code",
   "execution_count": null,
   "metadata": {},
   "outputs": [],
   "source": []
  },
  {
   "cell_type": "code",
   "execution_count": null,
   "metadata": {},
   "outputs": [],
   "source": []
  },
  {
   "cell_type": "code",
   "execution_count": 16,
   "metadata": {},
   "outputs": [],
   "source": [
    "browser.fin"
   ]
  },
  {
   "cell_type": "code",
   "execution_count": 17,
   "metadata": {},
   "outputs": [
    {
     "data": {
      "text/plain": [
       "str"
      ]
     },
     "execution_count": 17,
     "metadata": {},
     "output_type": "execute_result"
    }
   ],
   "source": [
    "type(flightSummary)"
   ]
  },
  {
   "cell_type": "code",
   "execution_count": 10,
   "metadata": {},
   "outputs": [
    {
     "name": "stdout",
     "output_type": "stream",
     "text": [
      "https://uk.flightaware.com/live/flight/IGO215/history/20180522/\n"
     ]
    },
    {
     "data": {
      "text/plain": [
       "['COK',\n",
       " 'KOCHI / NEDUMBASSERY, INDIA',\n",
       " 'BOM',\n",
       " 'MUMBAI, INDIA',\n",
       " 'takes off from',\n",
       " \"Cochin Int'l (Kochi Int'l) - COK\",\n",
       " 'landing at',\n",
       " \"Chatrapati Shivaji Int'l - BOM\",\n",
       " 'TUESDAY 22-MAY-2018',\n",
       " '14:00 IST',\n",
       " '(on time)',\n",
       " 'TUESDAY 22-MAY-2018',\n",
       " '15:50 IST',\n",
       " '(on time)',\n",
       " '  1h 50m total flight time']"
      ]
     },
     "execution_count": 10,
     "metadata": {},
     "output_type": "execute_result"
    }
   ],
   "source": [
    "getPage('IGO215')\n",
    "getSummary()"
   ]
  },
  {
   "cell_type": "code",
   "execution_count": 11,
   "metadata": {},
   "outputs": [
    {
     "name": "stdout",
     "output_type": "stream",
     "text": [
      "https://uk.flightaware.com/live/flight/UAE353/history/20180522/\n"
     ]
    },
    {
     "data": {
      "text/plain": [
       "['SIN',\n",
       " 'SINGAPORE',\n",
       " 'DXB',\n",
       " 'DUBAI, UNITED ARAB EMIRATES',\n",
       " 'left GATE C23',\n",
       " 'Singapore Changi - SIN',\n",
       " 'arriving at  TERMINAL 3',\n",
       " \"Dubai Int'l - DXB\",\n",
       " 'TUESDAY 22-MAY-2018',\n",
       " '10:35 +08',\n",
       " '(on time)',\n",
       " 'TUESDAY 22-MAY-2018',\n",
       " '13:46 +04',\n",
       " '(on time)',\n",
       " '  4h 15m elapsed',\n",
       " '7h 11m total flight time',\n",
       " '2h 56m remaining',\n",
       " '2,209 mi flown',\n",
       " '1,428 mi to go']"
      ]
     },
     "execution_count": 11,
     "metadata": {},
     "output_type": "execute_result"
    }
   ],
   "source": [
    "getPage('UAE353')\n",
    "getSummary()"
   ]
  },
  {
   "cell_type": "code",
   "execution_count": null,
   "metadata": {},
   "outputs": [],
   "source": []
  },
  {
   "cell_type": "code",
   "execution_count": null,
   "metadata": {},
   "outputs": [],
   "source": []
  },
  {
   "cell_type": "code",
   "execution_count": null,
   "metadata": {},
   "outputs": [],
   "source": [
    "browser.close()"
   ]
  },
  {
   "cell_type": "code",
   "execution_count": null,
   "metadata": {},
   "outputs": [],
   "source": []
  },
  {
   "cell_type": "code",
   "execution_count": null,
   "metadata": {},
   "outputs": [],
   "source": []
  }
 ],
 "metadata": {
  "kernelspec": {
   "display_name": "Python 3",
   "language": "python",
   "name": "python3"
  },
  "language_info": {
   "codemirror_mode": {
    "name": "ipython",
    "version": 3
   },
   "file_extension": ".py",
   "mimetype": "text/x-python",
   "name": "python",
   "nbconvert_exporter": "python",
   "pygments_lexer": "ipython3",
   "version": "3.6.4"
  }
 },
 "nbformat": 4,
 "nbformat_minor": 2
}
