{
 "cells": [
  {
   "cell_type": "code",
   "execution_count": 1,
   "metadata": {},
   "outputs": [],
   "source": [
    "from selenium import webdriver\n",
    "import datetime\n",
    "from bs4 import BeautifulSoup\n",
    "import urllib.request\n",
    "import json"
   ]
  },
  {
   "cell_type": "code",
   "execution_count": 2,
   "metadata": {},
   "outputs": [],
   "source": [
    "browser = webdriver.Chrome('driver/chromedriver') "
   ]
  },
  {
   "cell_type": "code",
   "execution_count": 8,
   "metadata": {},
   "outputs": [],
   "source": [
    "def getPage(flightID,date=datetime.datetime.now().date().strftime(\"%Y%m%d\")):\n",
    "    diff = datetime.datetime.strptime(date, \"%Y%m%d\").date()-datetime.datetime.now().date()\n",
    "    if diff > datetime.timedelta(-14):\n",
    "        link = 'https://uk.flightaware.com/live/flight/{}/history/{}/'.format(flightID,date)\n",
    "        print(link)\n",
    "        browser.get(link)\n",
    "        return True\n",
    "    else:\n",
    "        return False\n",
    "\n",
    "def getSummary():\n",
    "    flightSummary = browser.find_element_by_id('flightPageTourStep1')\n",
    "    flightSummarySoup = BeautifulSoup(flightSummary.get_attribute('innerHTML'), 'html.parser')\n",
    "    sourceDest = flightSummarySoup.find('div',{\"class\": \"flightPageSummaryAirports\"})\n",
    "    sourceIATA = sourceDest.find('div',{'class':'flightPageSummaryOrigin'}).find('span',{'class':'displayFlexElementContainer'}).text\n",
    "    sourceFName = sourceDest.find('div',{'class':'flightPageSummaryOrigin'}).find('span',{'class':'flightPageSummaryCity'}).text\n",
    "    destIATA = sourceDest.find('div',{'class':'flightPageSummaryDestination'}).find('span',{'class':'displayFlexElementContainer'}).text\n",
    "    destFName = sourceDest.find('div',{'class':'flightPageSummaryDestination'}).find('span',{'class':'flightPageSummaryCity'}).text\n",
    "    dateOfDeparture = flightSummarySoup.find('span',{'class':'flightPageSummaryDepartureDay'}).text.split(' ')[-1]\n",
    "    dayOfDeparture =  flightSummarySoup.find('span',{'class':'flightPageSummaryDepartureDay'}).text.split(' ')[0]\n",
    "    timeOfDeparture =  flightSummarySoup.find('span',{'class':'flightPageSummaryDeparture'}).text.split('\\n\\n\\n')[0]\n",
    "    dateOfArrival = flightSummarySoup.find('span',{'class':'flightPageSummaryArrivalDay'}).text.split(' ')[-1]\n",
    "    dayOfArrival =  flightSummarySoup.find('span',{'class':'flightPageSummaryArrivalDay'}).text.split(' ')[0]\n",
    "    timeOfArrival =  flightSummarySoup.find('span',{'class':'flightPageSummaryArrival'}).text.split('\\n\\n\\n')[0]\n",
    "    departureDelay = flightSummarySoup.find('span',{'class':'flightPageDepartureDelayStatus'}).text.strip(\"()\")\n",
    "    arrivalDelay = flightSummarySoup.find('span',{'class':'flightPageArrivalDelayStatus'}).text.strip(\"()\")\n",
    "    totalFlightTime = flightSummarySoup.find('span',{'class':'flightPageProgressTotal'}).text.strip().replace('\\n total flight time','')\n",
    "    AboutFlight  = browser.find_element_by_class_name('flightPageSummaryContainer')\n",
    "    AboutFlightSoup = BeautifulSoup(AboutFlight.get_attribute('innerHTML'), 'html.parser')\n",
    "    currentStatus = AboutFlightSoup.find('div',{'class':'flightPageSummaryStatus'})\n",
    "    summary = {}\n",
    "    summary['totalTime'] = totalFlightTime\n",
    "    summary['status'] = currentStatus.contents[0]\n",
    "    if len(currentStatus.contents)>1:\n",
    "        summary['sub-status'] = currentStatus.contents[1].text\n",
    "    source = {}\n",
    "    source['name'] = sourceFName.strip()\n",
    "    source['airportCode'] = sourceIATA.strip()\n",
    "    summary['source'] = source\n",
    "    destination = {}\n",
    "    destination['name'] = destFName.strip()\n",
    "    destination['airportCode'] = destIATA.strip()\n",
    "    summary['destination'] = destination\n",
    "    departure = {}\n",
    "    departure['day'] = dayOfDeparture.strip()\n",
    "    departure['date'] = dateOfDeparture.strip()\n",
    "    departure['time'] = timeOfDeparture.strip()\n",
    "    departure['status'] = departureDelay.title()\n",
    "    summary['departure'] = departure\n",
    "    arrival = {}\n",
    "    arrival['day'] = dayOfArrival.strip()\n",
    "    arrival['date'] = dateOfArrival.strip()\n",
    "    arrival['time'] = timeOfArrival.strip()\n",
    "    arrival['status'] = arrivalDelay.title()\n",
    "    summary['arrival'] = arrival\n",
    "#     print(json.dumps(summary,indent=4))\n",
    "    return summary"
   ]
  },
  {
   "cell_type": "code",
   "execution_count": 9,
   "metadata": {},
   "outputs": [
    {
     "name": "stdout",
     "output_type": "stream",
     "text": [
      "https://uk.flightaware.com/live/flight/UAE353/history/20180522/\n"
     ]
    },
    {
     "data": {
      "text/plain": [
       "{'totalTime': '6h 58m',\n",
       " 'status': 'Arrived 13 minutes ago',\n",
       " 'sub-status': 'Terminal 3',\n",
       " 'source': {'name': 'Singapore', 'airportCode': 'SIN'},\n",
       " 'destination': {'name': 'Dubai, United Arab Emirates', 'airportCode': 'DXB'},\n",
       " 'departure': {'day': 'Tuesday',\n",
       "  'date': '22-May-2018',\n",
       "  'time': '10:35 +08',\n",
       "  'status': 'On Time'},\n",
       " 'arrival': {'day': 'Tuesday',\n",
       "  'date': '22-May-2018',\n",
       "  'time': '13:33 +04',\n",
       "  'status': '7 Minutes Early'}}"
      ]
     },
     "execution_count": 9,
     "metadata": {},
     "output_type": "execute_result"
    }
   ],
   "source": [
    "getPage('UAE353')\n",
    "getSummary()"
   ]
  },
  {
   "cell_type": "code",
   "execution_count": 10,
   "metadata": {
    "scrolled": true
   },
   "outputs": [
    {
     "name": "stdout",
     "output_type": "stream",
     "text": [
      "https://uk.flightaware.com/live/flight/IGO215/history/20180522/\n"
     ]
    },
    {
     "data": {
      "text/plain": [
       "{'totalTime': '1h 50m',\n",
       " 'status': 'En route and on time',\n",
       " 'sub-status': 'Landing in 45 minutes',\n",
       " 'source': {'name': 'Kochi / Nedumbassery, India', 'airportCode': 'COK'},\n",
       " 'destination': {'name': 'Mumbai, India', 'airportCode': 'BOM'},\n",
       " 'departure': {'day': 'Tuesday',\n",
       "  'date': '22-May-2018',\n",
       "  'time': '14:10 IST',\n",
       "  'status': 'On Time'},\n",
       " 'arrival': {'day': 'Tuesday',\n",
       "  'date': '22-May-2018',\n",
       "  'time': '16:00 IST',\n",
       "  'status': 'On Time'}}"
      ]
     },
     "execution_count": 10,
     "metadata": {},
     "output_type": "execute_result"
    }
   ],
   "source": [
    "getPage('IGO215')\n",
    "getSummary()"
   ]
  },
  {
   "cell_type": "code",
   "execution_count": null,
   "metadata": {},
   "outputs": [],
   "source": []
  }
 ],
 "metadata": {
  "kernelspec": {
   "display_name": "Python 3",
   "language": "python",
   "name": "python3"
  },
  "language_info": {
   "codemirror_mode": {
    "name": "ipython",
    "version": 3
   },
   "file_extension": ".py",
   "mimetype": "text/x-python",
   "name": "python",
   "nbconvert_exporter": "python",
   "pygments_lexer": "ipython3",
   "version": "3.6.4"
  }
 },
 "nbformat": 4,
 "nbformat_minor": 2
}
